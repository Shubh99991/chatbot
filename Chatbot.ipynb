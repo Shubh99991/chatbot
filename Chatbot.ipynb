{
 "cells": [
  {
   "cell_type": "code",
   "execution_count": 1,
   "id": "e621261a-dfc5-43e7-977c-99bf3c925981",
   "metadata": {},
   "outputs": [],
   "source": [
    "import nltk\n",
    "import random \n",
    "import os\n",
    "import ssl \n",
    "import streamlit as st\n",
    "from sklearn.feature_extraction.text import TfidfVectorizer \n",
    "from sklearn.linear_model import LogisticRegression"
   ]
  },
  {
   "cell_type": "code",
   "execution_count": 2,
   "id": "ec8a69e8-65ed-40c3-9909-e9eb3611d60c",
   "metadata": {},
   "outputs": [
    {
     "name": "stderr",
     "output_type": "stream",
     "text": [
      "[nltk_data] Downloading package punkt to\n",
      "[nltk_data]     C:\\Users\\HP\\AppData\\Roaming\\nltk_data...\n",
      "[nltk_data]   Unzipping tokenizers\\punkt.zip.\n"
     ]
    },
    {
     "data": {
      "text/plain": [
       "True"
      ]
     },
     "execution_count": 2,
     "metadata": {},
     "output_type": "execute_result"
    }
   ],
   "source": [
    "ssl._create_default_https_context = ssl._create_unverified_context\n",
    "nltk.data.path.append(os.path.abspath('nltk_data'))\n",
    "nltk.download('punkt')"
   ]
  },
  {
   "cell_type": "code",
   "execution_count": 3,
   "id": "f4d86f59-99fc-4fc8-a64f-d8408bab8083",
   "metadata": {},
   "outputs": [],
   "source": [
    "intents = {\n",
    "\n",
    "    \"greetings\":{\n",
    "        \"patterns\": [\"Hi\", \"Hello\", \"Hey\", \"How are you\", \"What's up\"],\n",
    "        \"responses\": [\"Hello!\", \"Hi there!\", \"Hey!\", \"I'm doing well, thanks!\", \"How can I help you?\"]\n",
    "    },\n",
    "    \"goodbye\": {\n",
    "        \"patterns\": [\"Bye\", \"Goodbye\", \"See you later\", \"See ya\"],\n",
    "        \"responses\": [\"Goodbye!\", \"See you later!\", \"Take care!\"]\n",
    "    },\n",
    "    \"thanks\": {\n",
    "        \"patterns\": [\"Thank you\", \"Thanks\", \"Appreciate it\"],\n",
    "        \"responses\": [\"You're welcome!\", \"No problem!\", \"Happy to help!\"]\n",
    "    },\n",
    "    \"weather\": {\n",
    "        \"patterns\": [\"What's the weather like?\", \"How's the weather today?\", \"Is it raining?\"],\n",
    "        \"responses\": [\"I'm sorry, I don't have access to real-time information like the weather.\"]\n",
    "    },\n",
    "    \"name\": {\n",
    "        \"patterns\": [\"What's your name?\", \"What are you called?\", \"Who are you?\"],\n",
    "        \"responses\": [\"I'm a chatbot.\", \"I'm a conversational AI.\", \"You can call me ChatBot.\"]\n",
    "    },\n",
    "    \"help\": {\n",
    "        \"patterns\": [\"Help\", \"I need help\", \"Can you help me?\"],\n",
    "        \"responses\": [\"Sure, how can I help you?\", \"What do you need assistance with?\", \"I'll do my best to assist you.\"]\n",
    "    },\n",
    "    \"time\": {\n",
    "        \"patterns\": [\"What's the time?\", \"What time is it?\", \"Do you know the time?\"],\n",
    "        \"responses\": [\"I do not have access to real-time information, including the current time.\"] # Placeholder\n",
    "    },\n",
    "    \"date\": {\n",
    "        \"patterns\":[\"What's the date?\", \"What day is it today?\", \"What is today's date?\"],\n",
    "        \"responses\": [\"I do not have access to real-time information, including today's date.\"] #Placeholder\n",
    "    },\n",
    "     \"banking\": {\n",
    "        \"patterns\": [\"What are my account details?\", \"Transfer money\", \"Check balance\"],\n",
    "        \"responses\": [\"I can help with that. What specific banking information do you need?\", \"To what account would you like to transfer money?\", \"Your current balance is ...\"] # Placeholder responses\n",
    "    },\n",
    "    \"food\": {\n",
    "        \"patterns\": [\"Order food\", \"Find restaurants\", \"Suggest recipes\"],\n",
    "        \"responses\": [\"Sure. Where would you like to order from?\", \"What kind of cuisine are you looking for?\", \"Here are a few recipe suggestions...\"] # Placeholder responses\n",
    "    },\n",
    "    \"creditscore\": {\n",
    "        \"patterns\": [\"Check credit score\", \"What is my credit score?\", \"Improve credit score\"],\n",
    "        \"responses\": [\"Your credit score is ...\", \"Here are some tips to improve your credit score...\", \"I can help you check your credit score.\"] # Placeholder responses\n",
    "    }\n",
    "}\n"
   ]
  },
  {
   "cell_type": "code",
   "execution_count": null,
   "id": "d4136d4e-684a-4af6-97d9-c1178bec8ed0",
   "metadata": {},
   "outputs": [],
   "source": []
  }
 ],
 "metadata": {
  "kernelspec": {
   "display_name": "Python 3 (ipykernel)",
   "language": "python",
   "name": "python3"
  },
  "language_info": {
   "codemirror_mode": {
    "name": "ipython",
    "version": 3
   },
   "file_extension": ".py",
   "mimetype": "text/x-python",
   "name": "python",
   "nbconvert_exporter": "python",
   "pygments_lexer": "ipython3",
   "version": "3.12.7"
  }
 },
 "nbformat": 4,
 "nbformat_minor": 5
}
